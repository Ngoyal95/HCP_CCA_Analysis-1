{
 "cells": [
  {
   "cell_type": "code",
   "execution_count": null,
   "metadata": {},
   "outputs": [],
   "source": [
    "#!/usr/bin/python3\n",
    "\n",
    "# usage: python3 gen_matrixN1.py <path to .txt files with partial parcellations>\n",
    "# Note, the output file will go same location as the original .txt files with the specified name\n",
    "\n",
    "import numpy as np\n",
    "from numpy import genfromtxt\n",
    "import os\n",
    "import sys\n",
    "\n",
    "\n",
    "file_path = sys.argv[1] #path to the folder containing the .txt files w/ matrices\n",
    "arr_size = sys.argv[2] #number of ICA components (ex. 200)\n",
    "\n",
    "myList = []\n",
    "\n",
    "for filename in os.listdir(file_path):\n",
    "\tif filename.endswith(\".txt\"): \n",
    "\t\t#print(os.path.join(file_path, filename))\n",
    "\t\tarr = genfromtxt(os.path.join(file_path, filename), delimiter=',')\n",
    "\n",
    "\t\tif(arr.shape[0]==int(arr_size) & arr.shape[1]==int(arr_size)):\n",
    "\t\t\t#print(\"okay file\", filename)\n",
    "\t\t\tflat_lower_tri = arr[np.tril(arr, -1) !=0]\n",
    "\t\t\tmyList.append(flat_lower_tri)\n",
    "\t\telse:\n",
    "\t\t\tprint(\"ERROR: Incorrect array dimensions in file \", filename)\n",
    "\t\t\tcontinue\n",
    "\telse:\n",
    "\t\tcontinue\n",
    "\n",
    "matrix = np.array(myList)\n",
    "print(\"Resulting matrix shape:\" ,matrix.shape)\n",
    "np.savetxt(fname='N1_Matrix.txt', X=matrix, delimiter=',')\n"
   ]
  }
 ],
 "metadata": {
  "kernelspec": {
   "display_name": "Python 3",
   "language": "python",
   "name": "python3"
  },
  "language_info": {
   "codemirror_mode": {
    "name": "ipython",
    "version": 3
   },
   "file_extension": ".py",
   "mimetype": "text/x-python",
   "name": "python",
   "nbconvert_exporter": "python",
   "pygments_lexer": "ipython3",
   "version": "3.7.4"
  }
 },
 "nbformat": 4,
 "nbformat_minor": 2
}
