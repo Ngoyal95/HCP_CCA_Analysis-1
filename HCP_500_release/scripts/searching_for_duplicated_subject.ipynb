{
 "cells": [
  {
   "cell_type": "code",
   "execution_count": 14,
   "metadata": {},
   "outputs": [
    {
     "name": "stdout",
     "output_type": "stream",
     "text": [
      "behavior shape before (527, 338)\n",
      "shape of restricted before (542, 198)\n",
      "behavior shape after (461, 338)\n",
      "shape of restricted after (461, 198)\n"
     ]
    }
   ],
   "source": [
    "#!/usr/bin/python3\n",
    "\n",
    "# ***PURPOSE***\n",
    "# This script generates the vars.txt file (which is a subject x Subject Measures matrix) used by Smith et al. in their analysis of the HCP_500 data\n",
    "# See reference: https://www.fmrib.ox.ac.uk/datasets/HCP-CCA/\n",
    "\n",
    "# ***USAGE***\n",
    "# Multiple files are needed:\n",
    "# 1. a .txt file containing the names of the subject measures (SMs) to be used in the analysis\n",
    "# 2. a .txt file containing the names of all subjects to be analyzed (their subject IDs)\n",
    "# 3. the behavioral data from HCP\n",
    "# 4. the 'restricted' data from HCP (requires special access, must request this)\n",
    "# 5. the rfMRI_motion.txt file\n",
    "# 6. the quarter/release info file (named varsQconf.txt)\n",
    "\n",
    "# ***NOTE***\n",
    "# Files 1, 2, 5, and 6 are included in our GitHub repo (named subject_measure_names.txt, subject_ids.txt, rfMRI_motion.txt, and varsQconf.txt, respectively)\n",
    "\n",
    "# ***EXAMPLE USAGE ON CMD LINE***\n",
    "# ./generate_vars.py column_headers.txt subjects.txt <behavioral data> <restricted data> rfMRI_motion.txt varsQconf.txt\n",
    "\n",
    "import numpy as np\n",
    "import pandas as pd\n",
    "from pandas import DataFrame\n",
    "from numpy import genfromtxt\n",
    "import os\n",
    "import sys\n",
    "from pprint import pprint\n",
    "\n",
    "cwd = os.getcwd()\n",
    "inputs = os.path.abspath(\"__file__\"+\"/../../inputs\")\n",
    "outputs = os.path.abspath(\"__file__\"+\"/../../outputs\") # NOTE CHANGE THIS TO YOUR DESIRED OUTPUT PATH!\n",
    "\n",
    "column_headers_fp = os.path.join(inputs, 'subject_measure_names.txt')\n",
    "subject_ids_fp = os.path.join(inputs, 'subject_ids.txt')\n",
    "behavioral_data_fp = os.path.join(inputs, 'unrestricted_500_release.csv')\n",
    "restricted_data_fp = os.path.join(inputs, 'restricted_500_release.csv')\n",
    "rfMRI_data_fp = os.path.join(inputs, 'rfMRI_motion.txt')\n",
    "varsQconf_fp = os.path.join(inputs, 'varsQconf.txt')\n",
    "\n",
    "# get the column headers, and names of subjects\n",
    "column_headers = [line.rstrip('\\n') for line in open(os.path.join(cwd,column_headers_fp))]\n",
    "subjects = [line.rstrip('.pconn.nii\\n') for line in open(os.path.join(cwd,subject_ids_fp))]\n",
    "\n",
    "# now import \"behavioral\" and \"restricted\" datasets into Pandas dataframes\n",
    "behavioral_data = pd.read_csv(behavioral_data_fp)\n",
    "restricted_data = pd.read_csv(restricted_data_fp)\n",
    "\n",
    "\n",
    "# Now we will filter out only the rows that correspond to the subjects specified in subjects.txt\n",
    "# Sanity check, making sure that the filtering occurs correctly\n",
    "print('behavior shape before', behavioral_data.shape)\n",
    "print('shape of restricted before', restricted_data.shape)\n",
    "\n",
    "# Find the duplicated subject (142626, who is deleted from these)\n",
    "behavioral_data = behavioral_data[behavioral_data['Subject'].isin(subjects)]\n",
    "restricted_data = restricted_data[restricted_data['Subject'].isin(subjects)]\n",
    "\n",
    "print('behavior shape after', behavioral_data.shape)\n",
    "print('shape of restricted after', restricted_data.shape)"
   ]
  },
  {
   "cell_type": "code",
   "execution_count": 15,
   "metadata": {},
   "outputs": [
    {
     "data": {
      "text/plain": [
       "0      False\n",
       "1      False\n",
       "2      False\n",
       "3      False\n",
       "4      False\n",
       "       ...  \n",
       "522    False\n",
       "523    False\n",
       "524    False\n",
       "525    False\n",
       "526    False\n",
       "Length: 461, dtype: bool"
      ]
     },
     "execution_count": 15,
     "metadata": {},
     "output_type": "execute_result"
    }
   ],
   "source": [
    "behavioral_data = behavioral_data.drop(columns='Subject')\n",
    "behavioral_data.shape\n",
    "behavioral_data.duplicated()"
   ]
  },
  {
   "cell_type": "code",
   "execution_count": 13,
   "metadata": {},
   "outputs": [
    {
     "name": "stdout",
     "output_type": "stream",
     "text": [
      "Duplicate Rows based on column are:\n",
      "Empty DataFrame\n",
      "Columns: [Release, Gender, Age, Full_MR_Compl, T1_Count, T2_Count, RS-fMRI_Count, Full_Task_fMRI, fMRI_WM_Compl, fMRI_Gamb_Compl, fMRI_Mot_Compl, fMRI_Lang_Compl, fMRI_Soc_Compl, fMRI_Rel_Compl, fMRI_Emo_Compl, dMRI_Compl, dMRI_3T_ReconVrs, fMRI_3T_ReconVrs, MEG_AnyData, MEG_FullProt_Compl, MEG_HeadModel_Avail, MEG_CortRibn_Avail, MEG_Anatomy_Avail, MEG_Anatomy_Compl, MEG_Noise_Avail, MEG_Noise_Compl, MEG_RS_Avail, MEG_RS_Compl, MEG_WM_Avail, MEG_WM_Compl, MEG_StoryMath_Avail, MEG_StoryMath_Compl, MEG_Motor_Avail, MEG_Motor_Compl, Non-TB_Compl, VisProc_Compl, DelDisc_Compl, SCPT_Compl, IWRD_Compl, PMAT_Compl, VSPLOT_Compl, EmoRecog_Compl, NEO-FFI_Compl, ASR-Syn_Compl, ASR-DSM_Compl, Toolbox_Compl, MMSE_Compl, PSQI_Compl, Alert_Compl, ASQ_Compl, MRsession_Scanner, MRsession_Scans, MRsession_Label, MMSE_Score, PSQI_Score, PicSeq_Unadj, PicSeq_AgeAdj, CardSort_Unadj, CardSort_AgeAdj, Flanker_Unadj, Flanker_AgeAdj, PMAT24_A_CR, PMAT24_A_SI, PMAT24_A_RTCR, ReadEng_Unadj, ReadEng_AgeAdj, PicVocab_Unadj, PicVocab_AgeAdj, ProcSpeed_Unadj, ProcSpeed_AgeAdj, DDisc_SV_1mo_200, DDisc_SV_6mo_200, DDisc_SV_1yr_200, DDisc_SV_3yr_200, DDisc_SV_5yr_200, DDisc_SV_10yr_200, DDisc_SV_1mo_40K, DDisc_SV_6mo_40K, DDisc_SV_1yr_40K, DDisc_SV_3yr_40K, DDisc_SV_5yr_40K, DDisc_SV_10yr_40K, DDisc_AUC_200, DDisc_AUC_40K, VSPLOT_TC, VSPLOT_CRTE, VSPLOT_OFF, SCPT_TP, SCPT_TN, SCPT_FP, SCPT_FN, SCPT_TPRT, SCPT_SEN, SCPT_SPEC, SCPT_LRNR, IWRD_TOT, IWRD_RTC, ListSort_Unadj, ListSort_AgeAdj, ER40_CR, ...]\n",
      "Index: []\n",
      "\n",
      "[0 rows x 337 columns]\n"
     ]
    }
   ],
   "source": [
    "duplicateRowsDF = behavioral_data[behavioral_data.duplicated()]\n",
    "print(\"Duplicate Rows based on column are:\", duplicateRowsDF, sep='\\n')"
   ]
  },
  {
   "cell_type": "code",
   "execution_count": 7,
   "metadata": {},
   "outputs": [
    {
     "data": {
      "text/plain": [
       "Index(['ASQ_Compl', 'ASR-DSM_Compl', 'ASR-Syn_Compl', 'Age', 'Alert_Compl',\n",
       "       'AngAffect_Unadj', 'AngAggr_Unadj', 'AngHostil_Unadj',\n",
       "       'CardSort_AgeAdj', 'CardSort_Unadj',\n",
       "       ...\n",
       "       'dMRI_3T_ReconVrs', 'dMRI_Compl', 'fMRI_3T_ReconVrs', 'fMRI_Emo_Compl',\n",
       "       'fMRI_Gamb_Compl', 'fMRI_Lang_Compl', 'fMRI_Mot_Compl',\n",
       "       'fMRI_Rel_Compl', 'fMRI_Soc_Compl', 'fMRI_WM_Compl'],\n",
       "      dtype='object', length=337)"
      ]
     },
     "execution_count": 7,
     "metadata": {},
     "output_type": "execute_result"
    }
   ],
   "source": [
    "behavioral_data.columns.difference(['Subject'])"
   ]
  },
  {
   "cell_type": "code",
   "execution_count": null,
   "metadata": {},
   "outputs": [],
   "source": []
  }
 ],
 "metadata": {
  "kernelspec": {
   "display_name": "Python 3",
   "language": "python",
   "name": "python3"
  },
  "language_info": {
   "codemirror_mode": {
    "name": "ipython",
    "version": 3
   },
   "file_extension": ".py",
   "mimetype": "text/x-python",
   "name": "python",
   "nbconvert_exporter": "python",
   "pygments_lexer": "ipython3",
   "version": "3.7.4"
  }
 },
 "nbformat": 4,
 "nbformat_minor": 2
}
