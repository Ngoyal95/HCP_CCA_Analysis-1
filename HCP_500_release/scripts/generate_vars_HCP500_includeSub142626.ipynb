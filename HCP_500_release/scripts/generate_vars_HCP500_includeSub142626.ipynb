{
 "cells": [
  {
   "cell_type": "code",
   "execution_count": 14,
   "metadata": {
    "scrolled": true
   },
   "outputs": [
    {
     "name": "stdout",
     "output_type": "stream",
     "text": [
      "behavior shape before (527, 338)\n",
      "shape of restricted before (542, 198)\n",
      "behavior shape after (461, 338)\n",
      "shape of restricted after (461, 198)\n"
     ]
    }
   ],
   "source": [
    "#!/usr/bin/python3\n",
    "\n",
    "# ***PURPOSE***\n",
    "# This script generates the vars.txt file (which is a subject x Subject Measures matrix) used by Smith et al. in their analysis of the HCP_500 data\n",
    "# See reference: https://www.fmrib.ox.ac.uk/datasets/HCP-CCA/\n",
    "\n",
    "# ***USAGE***\n",
    "# Multiple files are needed:\n",
    "# 1. a .txt file containing the names of the subject measures (SMs) to be used in the analysis\n",
    "# 2. a .txt file containing the names of all subjects to be analyzed (their subject IDs)\n",
    "# 3. the behavioral data from HCP\n",
    "# 4. the 'restricted' data from HCP (requires special access, must request this)\n",
    "# 5. the rfMRI_motion.txt file\n",
    "# 6. the quarter/release info file (named varsQconf.txt)\n",
    "\n",
    "# ***NOTE***\n",
    "# Files 1, 2, 5, and 6 are included in our GitHub repo (named subject_measure_names.txt, subject_ids.txt, rfMRI_motion.txt, and varsQconf.txt, respectively)\n",
    "\n",
    "# ***EXAMPLE USAGE ON CMD LINE***\n",
    "# ./generate_vars.py column_headers.txt subjects.txt <behavioral data> <restricted data> rfMRI_motion.txt varsQconf.txt\n",
    "\n",
    "import numpy as np\n",
    "import pandas as pd\n",
    "from pandas import DataFrame\n",
    "from numpy import genfromtxt\n",
    "import os\n",
    "import sys\n",
    "from pprint import pprint\n",
    "\n",
    "cwd = os.getcwd()\n",
    "inputs = os.path.abspath(\"__file__\"+\"/../../inputs\")\n",
    "outputs = os.path.abspath(\"__file__\"+\"/../../outputs\") # NOTE CHANGE THIS TO YOUR DESIRED OUTPUT PATH!\n",
    "\n",
    "column_headers_fp = os.path.join(inputs, 'subject_measure_names.txt')\n",
    "subject_ids_fp = os.path.join(inputs, 'subject_ids.txt')\n",
    "behavioral_data_fp = os.path.join(inputs, 'unrestricted_500_release.csv')\n",
    "restricted_data_fp = os.path.join(inputs, 'restricted_500_release.csv')\n",
    "rfMRI_data_fp = os.path.join(inputs, 'rfMRI_motion.txt')\n",
    "varsQconf_fp = os.path.join(inputs, 'varsQconf.txt')\n",
    "\n",
    "# get the column headers, and names of subjects\n",
    "column_headers = [line.rstrip('\\n') for line in open(os.path.join(cwd,column_headers_fp))]\n",
    "subjects = [line.rstrip('.pconn.nii\\n') for line in open(os.path.join(cwd,subject_ids_fp))]\n",
    "\n",
    "# now import \"behavioral\" and \"restricted\" datasets into Pandas dataframes\n",
    "behavioral_data = pd.read_csv(behavioral_data_fp)\n",
    "restricted_data = pd.read_csv(restricted_data_fp)\n",
    "\n",
    "\n",
    "# Now we will filter out only the rows that correspond to the subjects specified in subjects.txt\n",
    "# Sanity check, making sure that the filtering occurs correctly\n",
    "print('behavior shape before', behavioral_data.shape)\n",
    "print('shape of restricted before', restricted_data.shape)\n",
    "\n",
    "#filter the behavioral and restricted datasets to contain only the relevant 461 subject data\n",
    "behavioral_data = behavioral_data[behavioral_data['Subject'].isin(subjects)]\n",
    "restricted_data = restricted_data[restricted_data['Subject'].isin(subjects)]\n",
    "\n",
    "print('behavior shape after', behavioral_data.shape)\n",
    "print('shape of restricted after', restricted_data.shape)"
   ]
  },
  {
   "cell_type": "code",
   "execution_count": 15,
   "metadata": {},
   "outputs": [],
   "source": [
    "# Now import the rfMRI and quarter/release (varsQconf) data\n",
    "varsqconf = pd.read_csv(varsQconf_fp, names=['quarter/release'])\n",
    "rfmri = pd.read_csv(rfMRI_data_fp, sep=\" \", names=['rfmri_motion'])"
   ]
  },
  {
   "cell_type": "code",
   "execution_count": 16,
   "metadata": {},
   "outputs": [],
   "source": [
    "# reindex so that the varsqconf has the correct subject IDs as its row labels\n",
    "varsqconf.index = rfmri.index"
   ]
  },
  {
   "cell_type": "code",
   "execution_count": 17,
   "metadata": {},
   "outputs": [],
   "source": [
    "# concatenate the rfMRI and varsQconf data (we will need to do this later anyway)\n",
    "rfmri_varsqconf = pd.concat([rfmri, varsqconf], axis=1)"
   ]
  },
  {
   "cell_type": "code",
   "execution_count": 18,
   "metadata": {},
   "outputs": [],
   "source": [
    "# get the names of column headers\n",
    "behav_headers=list(behavioral_data.columns.values)\n",
    "restrict_headers=list(restricted_data.columns.values)\n",
    "\n",
    "# Make lowercase\n",
    "column_headers=[element.lower() for element in column_headers]\n",
    "behav_headers=[element.lower() for element in behav_headers]\n",
    "restrict_headers=[element.lower() for element in restrict_headers]"
   ]
  },
  {
   "cell_type": "code",
   "execution_count": 20,
   "metadata": {},
   "outputs": [],
   "source": [
    "# Now let's lets get the column names that are overlapped in each\n",
    "overlap_in_behav = np.intersect1d(column_headers,behav_headers)\n",
    "overlap_in_restrict = np.intersect1d(column_headers,restrict_headers)"
   ]
  },
  {
   "cell_type": "code",
   "execution_count": 21,
   "metadata": {},
   "outputs": [],
   "source": [
    "# Now pull out the columns and their data\n",
    "# first we will need to convert all the column headers to lowercase\n",
    "behavioral_data.columns = behavioral_data.columns.str.lower()\n",
    "restricted_data.columns = restricted_data.columns.str.lower()\n",
    "\n",
    "behavioral_data_filtered_cols = behavioral_data[overlap_in_behav]\n",
    "restricted_data_filtered_cols = restricted_data[overlap_in_restrict]"
   ]
  },
  {
   "cell_type": "code",
   "execution_count": 22,
   "metadata": {},
   "outputs": [
    {
     "name": "stdout",
     "output_type": "stream",
     "text": [
      "(461, 286)\n",
      "(461, 190)\n",
      "(461, 2)\n"
     ]
    }
   ],
   "source": [
    "# check that all dimensions are correct before we attempt to concat the dataframes\n",
    "print(behavioral_data_filtered_cols.shape)\n",
    "print(restricted_data_filtered_cols.shape)\n",
    "print(rfmri_varsqconf.shape)"
   ]
  },
  {
   "cell_type": "code",
   "execution_count": 23,
   "metadata": {},
   "outputs": [],
   "source": [
    "# concat the dataframes\n",
    "\n",
    "# first reindex all of them to match rfmri_varsqconf\n",
    "behavioral_data_filtered_cols.index = rfmri_varsqconf.index\n",
    "restricted_data_filtered_cols.index = rfmri_varsqconf.index\n",
    "\n",
    "vars = pd.concat([behavioral_data_filtered_cols, restricted_data_filtered_cols, rfmri_varsqconf], axis = 1)"
   ]
  },
  {
   "cell_type": "code",
   "execution_count": 24,
   "metadata": {},
   "outputs": [],
   "source": [
    "# drop the duplicated 'subject' column\n",
    "vars = vars.drop(columns='subject')\n",
    "vars = vars.reindex(columns = column_headers)"
   ]
  },
  {
   "cell_type": "code",
   "execution_count": 25,
   "metadata": {},
   "outputs": [],
   "source": [
    "# output vars.txt to the 'outputs' folder\n",
    "vars.to_csv(os.path.join(outputs, \"vars_500_release.txt\"))"
   ]
  },
  {
   "cell_type": "code",
   "execution_count": null,
   "metadata": {},
   "outputs": [],
   "source": []
  }
 ],
 "metadata": {
  "kernelspec": {
   "display_name": "Python 3",
   "language": "python",
   "name": "python3"
  },
  "language_info": {
   "codemirror_mode": {
    "name": "ipython",
    "version": 3
   },
   "file_extension": ".py",
   "mimetype": "text/x-python",
   "name": "python",
   "nbconvert_exporter": "python",
   "pygments_lexer": "ipython3",
   "version": "3.7.4"
  }
 },
 "nbformat": 4,
 "nbformat_minor": 2
}
