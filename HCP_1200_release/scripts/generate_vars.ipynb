{
 "cells": [
  {
   "cell_type": "code",
   "execution_count": 1,
   "metadata": {},
   "outputs": [],
   "source": [
    "# Code used to generate the subject measures \"vars\" matrix for the HPC_1200 data\n",
    "# MOTE: this 'vars.txt' file will NOT include all 478 SMs\n",
    "# instead will just use the specific 158 that Smith et al. fed into their CCA analysis\n",
    "\n",
    "# Files needed:\n",
    "# 1. the unrestricted behavioral dat\n",
    "# 2. the 'restricted' dataset\n",
    "# 3. list of subjects in the HPC_1200 release (1003 people)\n",
    "# 4. list of the SMs to be used\n",
    "\n",
    "import numpy as np\n",
    "import pandas as pd\n",
    "from pandas import DataFrame\n",
    "from numpy import genfromtxt\n",
    "import os\n",
    "import sys\n",
    "from pprint import pprint\n",
    "\n",
    "cwd = os.getcwd()\n",
    "inputs = os.path.abspath(\"__file__\"+\"/../../inputs\")\n",
    "outputs = os.path.abspath(\"__file__\"+\"/../../outputs\") # NOTE CHANGE THIS TO YOUR DESIRED OUTPUT PATH!\n",
    "\n",
    "subject_measures_fp = os.path.join(inputs, '158_SMs.txt')\n",
    "subject_ids_fp = os.path.join(inputs, 'subjectIDs.txt')\n",
    "behavioral_data_fp = os.path.join(inputs, 'unrestricted.csv')\n",
    "restricted_data_fp = os.path.join(inputs, 'restricted.csv')\n",
    "# rfMRI_data_fp = os.path.join(inputs, 'rfMRI_motion.txt')\n",
    "# varsQconf_fp = os.path.join(inputs, 'varsQconf.txt')\n",
    "\n",
    "\n",
    "subject_measures = list(pd.read_csv(subject_measures_fp, delim_whitespace=True, header=None).iloc[0, :])\n",
    "subjects = [line.rstrip('\\n') for line in open(os.path.join(cwd,subject_ids_fp))]"
   ]
  },
  {
   "cell_type": "code",
   "execution_count": 2,
   "metadata": {},
   "outputs": [
    {
     "name": "stdout",
     "output_type": "stream",
     "text": [
      "behavior shape before (1206, 582)\n",
      "shape of restricted before (1206, 201)\n",
      "behavior shape after (1003, 582)\n",
      "shape of restricted after (1003, 201)\n"
     ]
    }
   ],
   "source": [
    "# Import \"behavioral\" and \"restricted\" datasets into Pandas dataframes\n",
    "behavioral_data = pd.read_csv(behavioral_data_fp)\n",
    "restricted_data = pd.read_csv(restricted_data_fp)\n",
    "\n",
    "# Filter out only the rows that correspond to the subjects specified in subjects.txt\n",
    "# Sanity check, making sure that the filtering occurs correctly\n",
    "print('behavior shape before', behavioral_data.shape)\n",
    "print('shape of restricted before', restricted_data.shape)\n",
    "\n",
    "#filter the behavioral and restricted datasets to contain only the relevant 461 subject data\n",
    "behavioral_data = behavioral_data[behavioral_data['Subject'].isin(subjects)]\n",
    "restricted_data = restricted_data[restricted_data['Subject'].isin(subjects)]\n",
    "\n",
    "print('behavior shape after', behavioral_data.shape)\n",
    "print('shape of restricted after', restricted_data.shape)"
   ]
  },
  {
   "cell_type": "code",
   "execution_count": 6,
   "metadata": {},
   "outputs": [],
   "source": [
    "# get the names of column headers\n",
    "behav_headers=list(behavioral_data.columns.values)\n",
    "restrict_headers=list(restricted_data.columns.values)\n",
    "\n",
    "# convert all the column headers to lowercase\n",
    "behavioral_data.columns = behavioral_data.columns.str.lower()\n",
    "restricted_data.columns = restricted_data.columns.str.lower()\n",
    "\n",
    "subject_measures = [element.lower() for element in subject_measures]\n",
    "\n",
    "behav_headers = [element.lower() for element in behav_headers]\n",
    "restrict_headers = [element.lower() for element in restrict_headers]"
   ]
  },
  {
   "cell_type": "code",
   "execution_count": 7,
   "metadata": {},
   "outputs": [],
   "source": [
    "# Now let's lets get the column from the restricted and unrestricted dfs that are needed to compose vars\n",
    "overlap_in_behav = np.intersect1d(subject_measures,behav_headers)\n",
    "overlap_in_restrict = np.intersect1d(subject_measures,restrict_headers)"
   ]
  },
  {
   "cell_type": "code",
   "execution_count": 18,
   "metadata": {},
   "outputs": [],
   "source": [
    "behavioral_data_filtered = behavioral_data[overlap_in_behav]\n",
    "restricted_data_filtered = restricted_data[overlap_in_restrict]"
   ]
  },
  {
   "cell_type": "code",
   "execution_count": 20,
   "metadata": {},
   "outputs": [
    {
     "data": {
      "text/plain": [
       "(1003, 61)"
      ]
     },
     "execution_count": 20,
     "metadata": {},
     "output_type": "execute_result"
    }
   ],
   "source": [
    "behavioral_data_filtered.shape"
   ]
  },
  {
   "cell_type": "code",
   "execution_count": 21,
   "metadata": {},
   "outputs": [
    {
     "data": {
      "text/plain": [
       "(1003, 84)"
      ]
     },
     "execution_count": 21,
     "metadata": {},
     "output_type": "execute_result"
    }
   ],
   "source": [
    "restricted_data_filtered.shape"
   ]
  },
  {
   "cell_type": "code",
   "execution_count": 22,
   "metadata": {},
   "outputs": [
    {
     "data": {
      "text/plain": [
       "145"
      ]
     },
     "execution_count": 22,
     "metadata": {},
     "output_type": "execute_result"
    }
   ],
   "source": [
    "61+84"
   ]
  },
  {
   "cell_type": "code",
   "execution_count": 24,
   "metadata": {},
   "outputs": [],
   "source": [
    "# it appears that we are still missing 158 - 145 = 13 measures, where are they?\n",
    "missing_in_behav = np.setdiff1d(subject_measures,behav_headers)\n",
    "missing_in_restrict = np.setdiff1d(subject_measures,restrict_headers)\n",
    "missing_in_behav_and_restrict = np.setdiff1d(missing_in_behav,restrict_headers)"
   ]
  },
  {
   "cell_type": "code",
   "execution_count": 29,
   "metadata": {},
   "outputs": [
    {
     "data": {
      "text/plain": [
       "array(['asr_aggr_pct', 'asr_attn_pct', 'asr_intr_pct', 'asr_rule_pct',\n",
       "       'asr_soma_pct', 'asr_thot_pct', 'asr_witd_pct', 'dsm_adh_pct',\n",
       "       'dsm_antis_pct', 'dsm_anxi_pct', 'dsm_avoid_pct', 'dsm_depr_pct',\n",
       "       'dsm_somp_pct'], dtype='<U34')"
      ]
     },
     "execution_count": 29,
     "metadata": {},
     "output_type": "execute_result"
    }
   ],
   "source": [
    "# No idea where these come from, so they will just have to be blank columns in the final 'vars' matrix\n",
    "missing_in_behav_and_restrict"
   ]
  },
  {
   "cell_type": "code",
   "execution_count": 31,
   "metadata": {},
   "outputs": [],
   "source": [
    "# concat the dataframes\n",
    "# first reindex all of them to match rfmri_varsqconf\n",
    "behavioral_data_filtered.index = subjects\n",
    "restricted_data_filtered.index = subjects\n",
    "\n",
    "vars = pd.concat([behavioral_data_filtered, restricted_data_filtered], axis = 1)"
   ]
  },
  {
   "cell_type": "code",
   "execution_count": 32,
   "metadata": {},
   "outputs": [
    {
     "data": {
      "text/plain": [
       "(1003, 145)"
      ]
     },
     "execution_count": 32,
     "metadata": {},
     "output_type": "execute_result"
    }
   ],
   "source": [
    "vars.shape"
   ]
  },
  {
   "cell_type": "code",
   "execution_count": 35,
   "metadata": {},
   "outputs": [],
   "source": [
    "vars = vars.reindex(columns = subject_measures)"
   ]
  },
  {
   "cell_type": "code",
   "execution_count": 36,
   "metadata": {},
   "outputs": [
    {
     "data": {
      "text/plain": [
       "(1003, 158)"
      ]
     },
     "execution_count": 36,
     "metadata": {},
     "output_type": "execute_result"
    }
   ],
   "source": [
    "vars.shape"
   ]
  },
  {
   "cell_type": "code",
   "execution_count": 37,
   "metadata": {},
   "outputs": [],
   "source": [
    "# output vars.txt to the 'outputs' folder\n",
    "vars.to_csv(os.path.join(outputs, \"vars.txt\"))"
   ]
  }
 ],
 "metadata": {
  "kernelspec": {
   "display_name": "Python 3",
   "language": "python",
   "name": "python3"
  },
  "language_info": {
   "codemirror_mode": {
    "name": "ipython",
    "version": 3
   },
   "file_extension": ".py",
   "mimetype": "text/x-python",
   "name": "python",
   "nbconvert_exporter": "python",
   "pygments_lexer": "ipython3",
   "version": "3.7.4"
  }
 },
 "nbformat": 4,
 "nbformat_minor": 2
}
